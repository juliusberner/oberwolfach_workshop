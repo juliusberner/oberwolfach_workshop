{
 "cells": [
  {
   "cell_type": "markdown",
   "metadata": {},
   "source": [
    "<a href=\"https://colab.research.google.com/github/juliusberner/oberwolfach_workshop/blob/master/DL_Kolmogorov.ipynb\" target=\"_parent\"><img src=\"https://colab.research.google.com/assets/colab-badge.svg\" alt=\"Open In Colab\"></a>"
   ]
  },
  {
   "cell_type": "code",
   "execution_count": 1,
   "metadata": {},
   "outputs": [],
   "source": [
    "from ipywidgets import interact\n",
    "import os\n",
    "from pathlib import Path\n",
    "\n",
    "import numpy as np\n",
    "import matplotlib.pyplot as plt\n",
    "import tensorflow as tf\n",
    "from tensorflow import keras\n",
    "\n",
    "# using files from github repository also from colab\n",
    "module_path = Path(\"modules\")\n",
    "if not (module_path.exists() and module_path.is_dir()):\n",
    "    repo_path = Path(\"oberwolfach_workshop\")\n",
    "    if not (repo_path.exists() and repo_path.is_dir()):\n",
    "        os.system(f\"git clone https://github.com/juliusberner/{repo_path.name}.git -q\")\n",
    "    os.chdir(repo_path)\n",
    "\n",
    "from modules.nn_constructions import affine_combination, identity, square, R, P\n",
    "from modules.utils import plot_1d\n",
    "\n",
    "\n",
    "tf.random.set_seed(1234)"
   ]
  },
  {
   "cell_type": "markdown",
   "metadata": {},
   "source": [
    "### Introduction to Kolmogorov PDEs\n",
    "\n",
    "In this notebook we present a deep learning based method for solving high-dimensional **Kolmogorov equations (PDEs)**, which are defined by\n",
    "\n",
    "$$ \n",
    "\\begin{cases}\n",
    "\\frac{\\partial f}{\\partial t}(t,x) \n",
    "= \n",
    "\\frac12 \\operatorname{Trace}\\!\\big(\n",
    "\\sigma(x)[\\sigma(x)]^{*}\\operatorname{Hess}_x f(t,x)\\big)\n",
    "+ \n",
    "\\big\\langle\n",
    "\\mu(x),\\nabla_x f(t,x) \n",
    "\\big\\rangle  \n",
    "\\\\ \n",
    "f(0,x) = \\varphi(x). \n",
    "\\end{cases}\n",
    "$$\n",
    "\n",
    "Special cases include, e.g. the heat equation and the Black-Scholes equation from financial engineering (pricing of options).\n",
    "\n",
    "Our goal will be to compute the evolution of the solution for time $[0,\\tau]$ on some hypercube $[u,v]^d$, i.e. the function\n",
    "\n",
    "$$\\color{blue}{f^{sol}:=f(t,x)|_{x\\in[u,v]^d, \\ t\\in[0,T]}} $$"
   ]
  },
  {
   "cell_type": "markdown",
   "metadata": {},
   "source": [
    "### Simple example\n",
    "\n",
    "Let\n",
    "* $\\varphi(x):=\\|x\\|^2_2$\n",
    "* $\\mu(x):=0$\n",
    "* $\\sigma(x):=\\sigma \\in\\mathbb{R}^{d\\times d}$\n",
    "\n",
    "Then it holds that (check!)\n",
    "\n",
    "$$ f(t,x) = \\|x\\|_2^2 + t * \\operatorname{Trace}(\\sigma \\sigma^*).$$"
   ]
  },
  {
   "cell_type": "code",
   "execution_count": 2,
   "metadata": {},
   "outputs": [],
   "source": [
    "d = 1  # space dimension\n",
    "sigma = 0.05 * tf.ones([d, d]) + 0.5 * tf.eye(d)"
   ]
  },
  {
   "cell_type": "code",
   "execution_count": 3,
   "metadata": {},
   "outputs": [],
   "source": [
    "def phi(_x):\n",
    "    return tf.reduce_sum(_x ** 2, axis=1, keepdims=True)\n",
    "\n",
    "\n",
    "def solution(_t, _x):\n",
    "    return phi(_x) + _t * tf.linalg.trace(sigma @ tf.transpose(sigma))"
   ]
  },
  {
   "cell_type": "code",
   "execution_count": 4,
   "metadata": {},
   "outputs": [
    {
     "data": {
      "image/png": "[encoded data removed]",
      "text/plain": [
       "<Figure size 720x360 with 1 Axes>"
      ]
     },
     "metadata": {
      "needs_background": "light"
     },
     "output_type": "display_data"
    }
   ],
   "source": [
    "t = 1.0\n",
    "plot_1d(lambda _x: solution(t, _x), titles=[\"exact solution\"])  # only works for d=1"
   ]
  },
  {
   "cell_type": "markdown",
   "metadata": {},
   "source": [
    "### Stochastic Interpretation\n",
    "\n",
    "Our main theoretical tool will be the **Feynman-Kac** formula, stating that (under suitable regularity conditions)\n",
    "\n",
    "$$\\color{blue}{f(t,x)=\\mathbb{E}\\big[\\varphi(S_t^x)\\big]},$$\n",
    "\n",
    "where $S_t^x$ is a solution process to the corresponding stochastic differential equations (**SDE**)\n",
    "\n",
    "$$S^x_t = x + \\int_0^t \\mu(S^x_s)\\,ds + \\int_0^t \\sigma(S^x_s)\\,dB_s. $$"
   ]
  },
  {
   "cell_type": "markdown",
   "metadata": {},
   "source": [
    "### ... back to our example\n",
    "\n",
    "In our example it holds that \n",
    "\n",
    "$$S_t^x = x+ \\sqrt{t}*  \\sigma N,$$\n",
    "\n",
    "where $N\\sim \\mathcal{N}(0,I_d)$ is a $d$-dimensional, uncorrelated standard normal random variable.\n",
    "Accordingly,\n",
    "\n",
    "$$F(t,x) = \\mathbb{E}[\\varphi(x+ \\sqrt{t}*  \\sigma N)].$$\n",
    "\n",
    "This can, of course, also be seen as convolution between $\\varphi$ and the corresponding heat kernel."
   ]
  },
  {
   "cell_type": "markdown",
   "metadata": {},
   "source": [
    "### Monte-Carlo Sampling\n",
    "\n",
    "For specific $x\\in\\mathbb{R}^d$, $t\\in \\mathbb{R}$, we can now compute $m$ i.i.d. samples $\\mathcal{S}^{x,i}_{t} \\sim \\mathcal{S}^{x}_{t}$  and approximate the solution to the PDE via **Monte-Carlo sampling**, i.e.\n",
    "\n",
    "$$ \\color{blue}{ f(t,x) = \\mathbb{E}\\big[\\varphi(S_t^x)\\big] \\approx \\frac{1}{m}\\sum_{i=1}^m\\varphi(\\mathcal{S}^{x,i}_{t}) }. $$"
   ]
  },
  {
   "cell_type": "code",
   "execution_count": 5,
   "metadata": {},
   "outputs": [],
   "source": [
    "x = 0.5 * tf.ones((1, d))  # 0.5*tf.ones([1, d])\n",
    "t = 1.0  # tf.constant([[1.]])\n",
    "m = 50"
   ]
  },
  {
   "cell_type": "code",
   "execution_count": 6,
   "metadata": {},
   "outputs": [],
   "source": [
    "# we compute the realizations efficiently in matrix form\n",
    "def batched_MC(sigma, phi, _t, _x):\n",
    "\n",
    "    N = tf.random.normal(shape=tf.shape(_x))\n",
    "    sigma_N = tf.einsum(\"ij, kj -> ik\", sigma, N)\n",
    "    # shape = (d, batchsize)\n",
    "    t_sigma_N = tf.einsum(\"ij, ki -> ik\", tf.sqrt(_t), sigma_N)\n",
    "    # shape = (batchsize, d)\n",
    "    return phi(_x + t_sigma_N)\n",
    "\n",
    "\n",
    "def repeat(tensor, num):\n",
    "    tensor = tf.reshape(tensor, [1, -1])\n",
    "    return tf.tile(\n",
    "        tensor, [num, 1]\n",
    "    )  # row vectors due to tensorflow convention (we want to reuse this later)\n",
    "\n",
    "\n",
    "x_rep = repeat(x, m)\n",
    "t_rep = repeat(t, m)\n",
    "\n",
    "phi_S = batched_MC(sigma, phi, t_rep, x_rep)\n",
    "f_approx = tf.reduce_mean(phi_S)"
   ]
  },
  {
   "cell_type": "code",
   "execution_count": 7,
   "metadata": {},
   "outputs": [
    {
     "name": "stdout",
     "output_type": "stream",
     "text": [
      "exact solution: 0.552500\n",
      "Monte-Carlo Approximation: 0.500079\n"
     ]
    }
   ],
   "source": [
    "print(\n",
    "    \"exact solution: {:.6f}\\nMonte-Carlo Approximation: {:.6f}\".format(\n",
    "        solution(t, x)[0][0], f_approx\n",
    "    )\n",
    ")"
   ]
  },
  {
   "cell_type": "code",
   "execution_count": 8,
   "metadata": {},
   "outputs": [
    {
     "data": {
      "image/png": "[encoded data removed]",
      "text/plain": [
       "<Figure size 720x360 with 1 Axes>"
      ]
     },
     "metadata": {
      "needs_background": "light"
     },
     "output_type": "display_data"
    }
   ],
   "source": [
    "samples = [(x, f_approx), (x_rep, phi_S)]\n",
    "plot_1d(lambda _x: solution(t, _x), samples=samples, titles=[\"Monte-Carlo Sampling\"])"
   ]
  },
  {
   "cell_type": "markdown",
   "metadata": {},
   "source": [
    "### Corresponding Learning Problem\n",
    "\n",
    "\n",
    "This is very nice (especially because it overcomes the curse dimensionality).\n",
    "\n",
    "But our goal was to numerically compute the solution for **all** $t\\in [0,\\tau]$ and **all** $x\\in[u,v]^d$\n",
    "(and we want to do machine learning)...\n",
    "\n",
    "Note that the unique solution to the statistical learning problem \n",
    "\n",
    "$$\\min_f \\mathbb{E} [ (f(X)-Y)^2 ] $$\n",
    "\n",
    "is given by the **regression** function $E[Y|X=x]$ (assuming $Y$ has finite variance).\n",
    "\n",
    "\n",
    "1. Let $\\color{blue}{(T,X)}\\sim \\mathcal{U}([0,\\tau]\\times [u,v]^d)$ be uniformly distributed on the hypercube $[0,\\tau]\\times [u,v]^d$. \n",
    "2. Define $\\color{blue}{Y:=\\varphi(S^X_T)}$, where $S^X_T$ is the solution to the SDE with initial value $X$ at time $T$.\n",
    "\n",
    "Then, under sufficient regularity assumptions, the Feynman-Kac formula establishes that\n",
    "\n",
    "$$f(t,x)=\\mathbb{E}\\big[\\varphi(S_t^x)\\big]=\\mathbb{E}\\big[\\varphi(S_T^X)|(T,X)=(t,x)\\big]=E[Y|(T,X)=(t,x)] \\qquad \\forall t\\in[0,\\tau], \\ x\\in[u,v]^d.$$\n",
    "\n",
    "Given $m$ i.i.d. samples $(X^i,Y^i)\\sim (X,Y)$ we can thus approximate\n",
    "\n",
    "$$\\color{blue}{f^{sol}=\\operatorname{argmin}_f \\mathbb{E} [ (f(T,X)-Y)^2 ]\\approx \\operatorname{argmin}_{f\\in \\mathcal{N}} \\tfrac{1}{m} \\sum_{i=1}^m (f(T_i,X_i)-Y_i)^2 },$$\n",
    "\n",
    "where $\\mathcal{N}$ denotes a suitable hypothesis space of neural networks."
   ]
  },
  {
   "cell_type": "code",
   "execution_count": 9,
   "metadata": {},
   "outputs": [],
   "source": [
    "u, v = -1.0, 1.0  # approximate solution on the hypercube [u,v]^d\n",
    "tau = 2.0  # approximate evolution of the solution for [0,tau]\n",
    "m = int(1e6)  # number of training samples\n",
    "m_test = 10000  # number of test samples"
   ]
  },
  {
   "cell_type": "code",
   "execution_count": 10,
   "metadata": {},
   "outputs": [],
   "source": [
    "# training data\n",
    "X = tf.random.uniform([m, d], minval=u, maxval=v)\n",
    "T = tf.random.uniform([m, 1], minval=0, maxval=tau)\n",
    "y_train = batched_MC(sigma, phi, T, X)\n",
    "x_train = tf.concat([T, X], axis=1)"
   ]
  },
  {
   "cell_type": "code",
   "execution_count": 11,
   "metadata": {},
   "outputs": [
    {
     "name": "stdout",
     "output_type": "stream",
     "text": [
      "Model: \"Kolmogorov_Model\"\n",
      "_________________________________________________________________\n",
      "Layer (type)                 Output Shape              Param #   \n",
      "=================================================================\n",
      "t_x (InputLayer)             [(None, 2)]               0         \n",
      "_________________________________________________________________\n",
      "dense (Dense)                (None, 100)               300       \n",
      "_________________________________________________________________\n",
      "leaky_re_lu (LeakyReLU)      (None, 100)               0         \n",
      "_________________________________________________________________\n",
      "dense_1 (Dense)              (None, 100)               10100     \n",
      "_________________________________________________________________\n",
      "leaky_re_lu_1 (LeakyReLU)    (None, 100)               0         \n",
      "_________________________________________________________________\n",
      "dense_2 (Dense)              (None, 1)                 101       \n",
      "=================================================================\n",
      "Total params: 10,501\n",
      "Trainable params: 10,501\n",
      "Non-trainable params: 0\n",
      "_________________________________________________________________\n"
     ]
    }
   ],
   "source": [
    "# model (Keras functional API: https://www.tensorflow.org/guide/keras/functional)\n",
    "inputs = keras.Input(shape=(d + 1,), name=\"t_x\")\n",
    "hidden = keras.layers.Dense(100)(inputs)\n",
    "# hidden = keras.layers.BatchNormalization()(hidden)\n",
    "hidden = keras.layers.LeakyReLU()(hidden)\n",
    "hidden = keras.layers.Dense(100)(hidden)\n",
    "# hidden = keras.layers.BatchNormalization()(hidden)\n",
    "hidden = keras.layers.LeakyReLU()(hidden)\n",
    "outputs = keras.layers.Dense(1)(hidden)\n",
    "learn_model = keras.Model(inputs=inputs, outputs=outputs, name=\"Kolmogorov_Model\")\n",
    "learn_model.summary()"
   ]
  },
  {
   "cell_type": "code",
   "execution_count": 12,
   "metadata": {},
   "outputs": [],
   "source": [
    "# test data\n",
    "X = tf.random.uniform([m_test, d], minval=u, maxval=v)\n",
    "T = tf.random.uniform([m_test, 1], minval=0, maxval=tau)\n",
    "y_test = solution(T, X)\n",
    "x_test = tf.concat([T, X], axis=1)"
   ]
  },
  {
   "cell_type": "code",
   "execution_count": 13,
   "metadata": {},
   "outputs": [
    {
     "name": "stdout",
     "output_type": "stream",
     "text": [
      "31250/31250 [==============================] - 52s 2ms/step - loss: 0.6516 - mae: 0.5189 - val_loss: 0.0016 - val_mae: 0.0341\n"
     ]
    }
   ],
   "source": [
    "learn_model.compile(optimizer=\"adam\", loss=\"mse\", metrics=[\"mae\"])\n",
    "history = learn_model.fit(x_train, y_train, validation_data=(x_test, y_test), epochs=1)"
   ]
  },
  {
   "cell_type": "code",
   "execution_count": 14,
   "metadata": {},
   "outputs": [
    {
     "data": {
      "application/vnd.jupyter.widget-view+json": {
       "model_id": "b02f8fded667440ebba75f556d9025ff",
       "version_major": 2,
       "version_minor": 0
      },
      "text/plain": [
       "interactive(children=(FloatSlider(value=1.0, description='t', max=2.0), Output()), _dom_classes=('widget-inter…"
      ]
     },
     "metadata": {},
     "output_type": "display_data"
    }
   ],
   "source": [
    "# visualize the evolution of the (learned) solution\n",
    "def evaluate(model, _t, _x):\n",
    "    return model(tf.concat([repeat(_t, _x.shape[0]), _x], axis=1))\n",
    "\n",
    "\n",
    "interact(\n",
    "    lambda t: plot_1d(\n",
    "        [lambda x: evaluate(learn_model, t, x), lambda x: solution(t, x)],\n",
    "        titles=[\"model vs. exact solution\"],\n",
    "    ),\n",
    "    t=(0, tau),\n",
    ");"
   ]
  },
  {
   "cell_type": "markdown",
   "metadata": {},
   "source": [
    "Note that this was just an illustrating example! \n",
    "\n",
    "real power of the deep learning approach: it can **overcome the curse of dimensionality**! \n",
    "\n",
    "* empirical overservations: \n",
    "\n",
    "  Solving a $\\color{blue}{100\\text{-dimensional}}$ Black-Scholes equation from financial engineering (option pricing) on $[90,110]^{100}$ using dense ReLU networks with architecture $(100,200,200,1)$ [[1]](https://arxiv.org/abs/1806.00421):\n",
    "  \n",
    "|Number of descent steps| Relative $\\mathcal{L}^1$ error| Relative $\\mathcal{L}^\\infty$ error | Runtime in seconds|\n",
    "|-----------------------|-------------------------------|-------------------------------------|-------------------|\n",
    "| \t0                   |  1.004285                     | 1.009524                            |  1                |\n",
    "|  100000               |          0.371515             |0.387978                             | 437.9             |\n",
    "| 250000                |   0.001220                    | 0.010039                            |  1092.6           |\n",
    "|500000                 |  0.000949                     | 0.005105                            |   2183.8          |\n",
    "\n",
    "* theoretical explanations: \n",
    "\n",
    "  approximation and generalization results for Kolmogorov equations, that do not suffer from the curse of dimensionality [[2]](https://arxiv.org/abs/1809.07669), [[3]](https://arxiv.org/abs/1903.06652), [[4]](https://arxiv.org/abs/1809.03062), ..."
   ]
  },
  {
   "cell_type": "code",
   "execution_count": 15,
   "metadata": {},
   "outputs": [],
   "source": [
    "# You can now try higher dimensions, different architectures,\n",
    "# and different Kolmogorov PDEs (see also the SDE solver below)!!\n",
    "#\n",
    "#\n",
    "#\n",
    "#\n",
    "#\n",
    "#\n",
    "#\n",
    "#"
   ]
  },
  {
   "cell_type": "markdown",
   "metadata": {},
   "source": [
    "If you have any questions, please feel free to contact me:  julius.berner@univie.ac.at"
   ]
  },
  {
   "cell_type": "markdown",
   "metadata": {},
   "source": [
    "## Further Material"
   ]
  },
  {
   "cell_type": "markdown",
   "metadata": {},
   "source": [
    "### Using our Approximation Framework\n",
    "\n",
    "We can also explicitely construct a neural network approximating the PDE solution.\n",
    "\n",
    "Note that this is only the case in our specific simple example, where we know the solution $f(t,x) = \\|x\\|_2^2 + t * \\operatorname{Trace}(\\sigma \\sigma^*)$."
   ]
  },
  {
   "cell_type": "code",
   "execution_count": 16,
   "metadata": {},
   "outputs": [],
   "source": [
    "bound = max([u, v])\n",
    "trace = tf.linalg.trace(sigma @ tf.transpose(sigma)).numpy()\n",
    "\n",
    "approx_param = affine_combination(\n",
    "    [trace, 1.0], pa_list=[identity(), square(1e-10, bound)]\n",
    ")\n",
    "approx_model = R(approx_param)"
   ]
  },
  {
   "cell_type": "markdown",
   "metadata": {},
   "source": [
    "----"
   ]
  },
  {
   "cell_type": "code",
   "execution_count": 17,
   "metadata": {},
   "outputs": [
    {
     "data": {
      "application/vnd.jupyter.widget-view+json": {
       "model_id": "8d9bc879751545fb809e7f8cddace0b2",
       "version_major": 2,
       "version_minor": 0
      },
      "text/plain": [
       "interactive(children=(FloatSlider(value=1.0, description='t', max=2.0), Output()), _dom_classes=('widget-inter…"
      ]
     },
     "metadata": {},
     "output_type": "display_data"
    }
   ],
   "source": [
    "# visualizing the learned model, the approximating using the explicit construction, and the exact solution\n",
    "interact(\n",
    "    lambda t: plot_1d(\n",
    "        lambda x: evaluate(learn_model, t, x),\n",
    "        lambda x: evaluate(approx_model, t, x),\n",
    "        lambda x: solution(t, x),\n",
    "        titles=[\"learned\", \"approx.\", \"exact\"],\n",
    "    ),\n",
    "    t=(0, tau),\n",
    ");"
   ]
  },
  {
   "cell_type": "code",
   "execution_count": 18,
   "metadata": {},
   "outputs": [
    {
     "name": "stdout",
     "output_type": "stream",
     "text": [
      "Approx. Model #Parameters: 10501\n",
      "Learned Model #Parameters: 2821\n"
     ]
    }
   ],
   "source": [
    "# Note that the learned model is significantly smaller.\n",
    "print(\n",
    "    \"Approx. Model #Parameters: {}\\nLearned Model #Parameters: {}\".format(\n",
    "        learn_model.count_params(), approx_model.count_params()\n",
    "    )\n",
    ")"
   ]
  },
  {
   "cell_type": "code",
   "execution_count": 19,
   "metadata": {},
   "outputs": [
    {
     "name": "stdout",
     "output_type": "stream",
     "text": [
      "31250/31250 [==============================] - 46s 1ms/step - loss: 0.6494 - mae: 0.5179 - val_loss: 0.0014 - val_mae: 0.0328\n"
     ]
    }
   ],
   "source": [
    "# We could also ftry to urther learn the approx. model\n",
    "approx_model.compile(optimizer=\"adam\", loss=\"mse\", metrics=[\"mae\"])\n",
    "history = learn_model.fit(x_train, y_train, validation_data=(x_test, y_test))"
   ]
  },
  {
   "cell_type": "code",
   "execution_count": 20,
   "metadata": {},
   "outputs": [],
   "source": [
    "# You can try to generalize this to the multidimensional setting by\n",
    "# by implementing a network approximating the squared euclidean norm!\n",
    "#\n",
    "#\n",
    "#\n",
    "#\n",
    "#\n",
    "#"
   ]
  },
  {
   "cell_type": "markdown",
   "metadata": {},
   "source": [
    "### Approximation of SDE solution\n",
    "\n",
    "We now show how to approximately solve the SDE for more complicated coefficient functions.\n",
    "\n",
    "Let us partition the time interval\n",
    "$[0,T]$\n",
    "into\n",
    "$N$ \n",
    "subintervals of equal length, i.e. we set\n",
    "\n",
    "$$t_n:=\\frac{nT}{N}, \\quad n\\in\\{0,1,\\dots,N\\}.$$ \n",
    "\n",
    "Note that for sufficiently small step size \n",
    "$\\frac{T}{N}=t_{n+1}-t_n$ \n",
    "one can approximate \n",
    "\n",
    "\n",
    "$$\n",
    "\\color{blue}{ S^x_{t_{n+1}}} = S^x_{t_n} + \n",
    "\\int_{t_n}^{t_{n+1}} \\mu\\big(S^x_s\\big)\\,ds + \n",
    "\\int_{t_n}^{t_{n+1}} \\sigma\\big(S^x_s\\big)\\,dB_s \\approx \n",
    "\\color{blue}{S^x_{t_n} + \\mu\\big(S^x_{t_n}\\big)\\,\\tfrac{T}{N} + \\sigma\\big(S^x_{t_n}\\big)\\underbrace{\\big(B_{t_{n+1}}- B_{t_n}\\big)}_{\\sim \\mathcal{N}\\big(0,\\frac{T}{N}I\\big)}}.\n",
    "$$\n",
    "\n",
    "\n",
    "This defines the so-called **Euler-Maruyama scheme** $\\mathcal{S}^x_n$, which we will implement in the following for affine linear coefficient functions:\n",
    "\n",
    "\n",
    "**input:**\n",
    "\n",
    "* initial value $x\\in\\mathbb{R}^{batchsize \\times d}$\n",
    "* time horizon $T\\in(0,\\infty)$\n",
    "* number of Steps $N\\in\\mathbb{N}$\n",
    "* value function $\\varphi\\colon\\mathbb{R}^d\\to\\mathbb{R}$\n",
    "* affine linear diffusion $\\sigma\\colon\\mathbb{R}^d\\to\\mathbb{R}^{d \\times d}$    \n",
    "  $\\sigma=[\\sigma_{ten},\\sigma_{mat}]$, $\\sigma(x)=[x \\sigma_{ten}[0,:,:],\\dots,x \\sigma_{ten}[d,:,:]]^T + \\sigma_{ten}$ (acting on row vectors)\n",
    "  \n",
    "* affine linear drift $\\mu\\colon\\mathbb{R}^d\\to\\mathbb{R}^{d}$      \n",
    "  $\\mu=[\\mu_{mat},\\mu_{vec}]$, $\\mu(x)=x \\mu_{mat} + \\mu_{vec}$ (acting on row vectors)\n",
    "  \n",
    "**output:**\n",
    "\n",
    "* realizations of $\\varphi$ evaluated at end value of the Euler-Maruyama scheme \n",
    "\n",
    "$$(\\varphi(\\mathcal{S}^{x_i}_{N}))_i\\in\\mathbb{R}^{batchsize}$$\n"
   ]
  },
  {
   "cell_type": "code",
   "execution_count": 21,
   "metadata": {},
   "outputs": [],
   "source": [
    "def EM(x, T, N, phi, mu, sigma):\n",
    "\n",
    "    batch_size, d = tf.shape(x)\n",
    "\n",
    "    with tf.name_scope(\"Euler-Scheme\"):\n",
    "        stepsize = tf.divide(T, tf.cast(N, tf.float32), name=\"Step-Size\")\n",
    "        dw_all = tf.random.normal(\n",
    "            shape=[N, batch_size, d], mean=0.0, stddev=tf.sqrt(stepsize), name=\"DW\"\n",
    "        )\n",
    "        realization = x\n",
    "        for dw in dw_all[..., :, :]:\n",
    "            sigma_x = tf.einsum(\"ij, kjl -> ikl\", realization, sigma[0]) + sigma[1]\n",
    "            # einsum[i,k,l]=\\sum_j realization[i,j]*sigma[0][k,j,l]\n",
    "            # equivalent: einsum[i,k,:]=realization[i,:] @ sigma[0][k,:,:]\n",
    "            # resulting dim: [batchsize,d,d] + [d,d] (broadcasting applies to addition)\n",
    "            mu_x = tf.matmul(realization, mu[0]) + mu[1]\n",
    "            realization += mu_x * stepsize + tf.einsum(\"ij, ijk -> ik\", dw, sigma_x)\n",
    "            # einsum[i,k]=\\sum_j dw[i,j]*sigma_x[i,j,k]\n",
    "            # equivalent: einsum[i,:]=dw[i,:] @ sigma_x[i,:,:]\n",
    "            # resulting dim: [batchsize,d] + [batchsize,d]\n",
    "        return phi(realization)"
   ]
  }
 ],
 "metadata": {
  "@webio": {
   "lastCommId": null,
   "lastKernelId": null
  },
  "kernelspec": {
   "display_name": "Python 3",
   "language": "python",
   "name": "python3"
  },
  "language_info": {
   "codemirror_mode": {
    "name": "ipython",
    "version": 3
   },
   "file_extension": ".py",
   "mimetype": "text/x-python",
   "name": "python",
   "nbconvert_exporter": "python",
   "pygments_lexer": "ipython3",
   "version": "3.7.3"
  }
 },
 "nbformat": 4,
 "nbformat_minor": 2
}
